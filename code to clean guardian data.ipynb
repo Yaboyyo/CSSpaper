{
 "cells": [
  {
   "cell_type": "code",
   "execution_count": 13,
   "metadata": {},
   "outputs": [],
   "source": [
    "import csv\n",
    "\n",
    "input_file = 'guardian_articles_to_clean.csv'  # Replace 'input.csv' with your input CSV file name\n",
    "output_file = 'guardian_articles_cleaned.csv'  # Replace 'output.csv' with your output CSV file name\n",
    "\n",
    "with open(input_file, 'r', newline='', encoding='mac_roman') as infile, open(output_file, 'w', newline='', encoding='utf-8') as outfile:\n",
    "    reader = csv.reader(infile)\n",
    "    writer = csv.writer(outfile)\n",
    "\n",
    "    for row in reader:\n",
    "        if len(row) >= 4:\n",
    "            # Encode with 'mac_roman' and decode with 'utf-8'\n",
    "            row[3] = row[3].encode(\"mac_roman\").decode(\"utf-8\")\n",
    "        writer.writerow(row)\n"
   ]
  }
 ],
 "metadata": {
  "kernelspec": {
   "display_name": "Python 3",
   "language": "python",
   "name": "python3"
  },
  "language_info": {
   "codemirror_mode": {
    "name": "ipython",
    "version": 3
   },
   "file_extension": ".py",
   "mimetype": "text/x-python",
   "name": "python",
   "nbconvert_exporter": "python",
   "pygments_lexer": "ipython3",
   "version": "3.9.6"
  }
 },
 "nbformat": 4,
 "nbformat_minor": 2
}
