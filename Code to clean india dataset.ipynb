{
 "cells": [
  {
   "cell_type": "code",
   "execution_count": 1,
   "metadata": {},
   "outputs": [],
   "source": [
    "import csv\n",
    "\n",
    "def remove_quotation_marks(input_file, output_file):\n",
    "    with open(input_file, 'r', newline='') as infile:\n",
    "        reader = csv.reader(infile)\n",
    "        data = [row for row in reader]\n",
    "\n",
    "    # Remove quotation marks\n",
    "    for row in data:\n",
    "        for i in range(len(row)):\n",
    "            row[i] = row[i].replace('\"', '')\n",
    "\n",
    "    with open(output_file, 'w', newline='') as outfile:\n",
    "        writer = csv.writer(outfile)\n",
    "        writer.writerows(data)\n",
    "\n",
    "# Usage example:\n",
    "input_file = 'india-news-headlines.csv'\n",
    "output_file = 'india-news-headlines-cleaned.csv'\n",
    "remove_quotation_marks(input_file, output_file)\n"
   ]
  }
 ],
 "metadata": {
  "kernelspec": {
   "display_name": "Python 3",
   "language": "python",
   "name": "python3"
  },
  "language_info": {
   "codemirror_mode": {
    "name": "ipython",
    "version": 3
   },
   "file_extension": ".py",
   "mimetype": "text/x-python",
   "name": "python",
   "nbconvert_exporter": "python",
   "pygments_lexer": "ipython3",
   "version": "3.9.6"
  }
 },
 "nbformat": 4,
 "nbformat_minor": 2
}
