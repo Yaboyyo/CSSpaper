{
 "cells": [
  {
   "cell_type": "code",
   "execution_count": 4,
   "metadata": {},
   "outputs": [],
   "source": [
    "#dataset cleaning code\n",
    "import pandas as pd\n",
    "\n",
    "def case_normalization(text):\n",
    "    return text.lower()\n",
    "\n",
    "# Read the CSV file\n",
    "file_path = \"clickbait_data.csv\"\n",
    "data = pd.read_csv(file_path)\n",
    "\n",
    "# Perform case normalization on the text in the first column\n",
    "data.iloc[:, 0] = data.iloc[:, 0].apply(case_normalization)\n",
    "\n",
    "# Overwrite the original CSV file with the normalized text\n",
    "data.to_csv(file_path, index=False)"
   ]
  },
  {
   "cell_type": "code",
   "execution_count": 5,
   "metadata": {},
   "outputs": [],
   "source": [
    "import pandas as pd\n",
    "import re\n",
    "\n",
    "def clean_text(text):\n",
    "    # Remove URLs\n",
    "    text = re.sub(r'http\\S+', '', text)\n",
    "    # Remove hashtags (but keep the word following the hashtag)\n",
    "    text = re.sub(r'#', '', text)\n",
    "    # Remove special characters (excluding numbers) and extra white spaces\n",
    "    text = re.sub(r'[^A-Za-z0-9\\s]', '', text)\n",
    "    # Remove additional white spaces\n",
    "    text = re.sub(r'\\s+', ' ', text).strip()\n",
    "    return text\n",
    "\n",
    "# Read the CSV file\n",
    "file_path = \"clickbait_data.csv\"\n",
    "data = pd.read_csv(file_path)\n",
    "\n",
    "# Apply clean_text function to the text in the first column\n",
    "data.iloc[:, 0] = data.iloc[:, 0].apply(clean_text)\n",
    "\n",
    "# Overwrite the original CSV file with the cleaned text\n",
    "data.to_csv(file_path, index=False)\n"
   ]
  }
 ],
 "metadata": {
  "kernelspec": {
   "display_name": "Python 3",
   "language": "python",
   "name": "python3"
  },
  "language_info": {
   "codemirror_mode": {
    "name": "ipython",
    "version": 3
   },
   "file_extension": ".py",
   "mimetype": "text/x-python",
   "name": "python",
   "nbconvert_exporter": "python",
   "pygments_lexer": "ipython3",
   "version": "3.9.6"
  }
 },
 "nbformat": 4,
 "nbformat_minor": 2
}
